{
 "cells": [
  {
   "cell_type": "code",
   "execution_count": null,
   "metadata": {
    "colab": {},
    "colab_type": "code",
    "id": "VuGZ-QfLQ0A6"
   },
   "outputs": [],
   "source": [
    "import tensorflow as tf\n",
    "import numpy as np\n",
    "import matplotlib.pyplot as plt\n",
    "import gym\n",
    "\n",
    "episodes = 1000\n",
    "length = 200\n",
    "gamma = 0.9\n",
    "a_ = 0.0001\n",
    "c_ = 0.0002\n",
    "batch = 32\n",
    "s_dim, a_dim = 3, 1\n",
    "kl_target = 0.01\n",
    "lambda_ = 0.5"
   ]
  },
  {
   "cell_type": "code",
   "execution_count": null,
   "metadata": {
    "colab": {},
    "colab_type": "code",
    "id": "mFktrAPLSHZq"
   },
   "outputs": [],
   "source": [
    "class PPO(object):\n",
    "\n",
    "    def __init__(self):\n",
    "        self.sess = tf.Session()\n",
    "        self.tfs = tf.placeholder(tf.float32, [None, s_dim], 'state')\n",
    "        with tf.variable_scope('critic'):\n",
    "            l1 = tf.layers.dense(self.tfs, 100, tf.nn.relu)\n",
    "            self.v = tf.layers.dense(l1, 1)\n",
    "            self.tfdc_r = tf.placeholder(tf.float32, [None, 1], 'discounted_r')\n",
    "            self.advantage = self.tfdc_r - self.v\n",
    "            self.closs = tf.reduce_mean(tf.square(self.advantage))\n",
    "            self.ctrain_op = tf.train.AdamOptimizer(c_).minimize(self.closs)\n",
    "        probs, probs_params = self.actor('probs', trainable=True)\n",
    "        oldprobs, oldprobs_params = self.actor('oldprobs', trainable=False)\n",
    "        with tf.variable_scope('sample_action'):\n",
    "            self.sample_op = tf.squeeze(probs.sample(1), axis=0)\n",
    "        with tf.variable_scope('update_oldpi'):\n",
    "            self.update_oldprobs_op = [oldp.assign(p) for p, oldp in zip(probs_params, oldprobs_params)]\n",
    "        self.tfa = tf.placeholder(tf.float32, [None, a_dim], 'action')\n",
    "        self.tfadv = tf.placeholder(tf.float32, [None, 1], 'advantage')\n",
    "        with tf.variable_scope('loss'):\n",
    "            with tf.variable_scope('surrogate'):\n",
    "                ratio = probs.prob(self.tfa) / oldprobs.prob(self.tfa)\n",
    "                surr = ratio * self.tfadv\n",
    "            self.tflam = tf.placeholder(tf.float32, None, 'lambda')\n",
    "            kl = tf.distributions.kl_divergence(oldprobs, probs)\n",
    "            self.kl_mean = tf.reduce_mean(kl)\n",
    "            self.aloss = -(tf.reduce_mean(surr - self.tflam * kl))\n",
    "        with tf.variable_scope('atrain'):\n",
    "            self.atrain_op = tf.train.AdamOptimizer(a_).minimize(self.aloss)\n",
    "        tf.summary.FileWriter(\"log/\", self.sess.graph)\n",
    "        self.sess.run(tf.global_variables_initializer())\n",
    "        self.lambda_ = 0.5\n",
    "\n",
    "    def update(self, s, a, r):\n",
    "        self.sess.run(self.update_oldprobs_op)\n",
    "        adv = self.sess.run(self.advantage, {self.tfs: s, self.tfdc_r: r})\n",
    "        for _ in range(10):\n",
    "            _, kl = self.sess.run(\n",
    "                [self.atrain_op, self.kl_mean],\n",
    "                {self.tfs: s, self.tfa: a, self.tfadv: adv, self.tflam: self.lambda_})\n",
    "            if kl > 4*kl_target:\n",
    "                break\n",
    "        if kl < kl_target / 1.5:\n",
    "            self.lambda_ /= 2\n",
    "        elif kl > kl_target * 1.5:\n",
    "            self.lambda_ *= 2\n",
    "        self.lambda_ = np.clip(lambda_, 1e-4, 10)\n",
    "        [self.sess.run(self.ctrain_op, {self.tfs: s, self.tfdc_r: r}) for _ in range(10)]\n",
    "\n",
    "    def actor(self, name, trainable):\n",
    "        with tf.variable_scope(name):\n",
    "            l1 = tf.layers.dense(self.tfs, 100, tf.nn.relu, trainable=trainable)\n",
    "            mu = 2 * tf.layers.dense(l1, a_dim, tf.nn.tanh, trainable=trainable)\n",
    "            sigma = tf.layers.dense(l1, a_dim, tf.nn.softplus, trainable=trainable)\n",
    "            norm_dist = tf.distributions.Normal(loc=mu, scale=sigma)\n",
    "        params = tf.get_collection(tf.GraphKeys.GLOBAL_VARIABLES, scope=name)\n",
    "        return norm_dist, params\n",
    "\n",
    "    def choose_action(self, s):\n",
    "        s = s[np.newaxis, :]\n",
    "        a = self.sess.run(self.sample_op, {self.tfs: s})[0]\n",
    "        return np.clip(a, -2, 2)\n",
    "\n",
    "    def get(self, s):\n",
    "        if s.ndim < 2: s = s[np.newaxis, :]\n",
    "        return self.sess.run(self.v, {self.tfs: s})[0, 0]"
   ]
  },
  {
   "cell_type": "code",
   "execution_count": null,
   "metadata": {
    "colab": {
     "base_uri": "https://localhost:8080/",
     "height": 343
    },
    "colab_type": "code",
    "id": "HDKTO9T3SXcb",
    "outputId": "c203529a-1ad3-4f4a-f8e4-4efec0b2c70e"
   },
   "outputs": [],
   "source": [
    "env = gym.make('Pendulum-v0').unwrapped\n",
    "ppo = PPO()\n",
    "rewards = []"
   ]
  },
  {
   "cell_type": "code",
   "execution_count": null,
   "metadata": {
    "colab": {
     "base_uri": "https://localhost:8080/",
     "height": 1390
    },
    "colab_type": "code",
    "id": "ediV-fLjSa-U",
    "outputId": "f4dd82b8-88ad-4aee-caac-410e0887307c"
   },
   "outputs": [],
   "source": [
    "for ep in range(episodes):\n",
    "    s = env.reset()\n",
    "    buffer_s, buffer_a, buffer_r = [], [], []\n",
    "    reward = 0\n",
    "    for t in range(length):\n",
    "        env.render()\n",
    "        a = ppo.choose_action(s)\n",
    "        s_, r, done, _ = env.step(a)\n",
    "        buffer_s.append(s)\n",
    "        buffer_a.append(a)\n",
    "        buffer_r.append((r+8)/8)\n",
    "        s = s_\n",
    "        reward += r\n",
    "        if (t+1) % batch == 0 or t == length-1:\n",
    "            v_s_ = ppo.get(s_)\n",
    "            discounted_r = []\n",
    "            for r in buffer_r[::-1]:\n",
    "                v_s_ = r + gamma * v_s_\n",
    "                discounted_r.append(v_s_)\n",
    "            discounted_r.reverse()\n",
    "            bs, ba, br = np.vstack(buffer_s), np.vstack(buffer_a), np.array(discounted_r)[:, np.newaxis]\n",
    "            buffer_s, buffer_a, buffer_r = [], [], []\n",
    "            ppo.update(bs, ba, br)\n",
    "    if ep == 0: \n",
    "      rewards.append(reward)\n",
    "    else: \n",
    "      rewards.append(rewards[-1]*0.9 + reward*0.1)\n",
    "    print(\n",
    "        'Ep: %i' % ep,\n",
    "        \"|Reward: %i\" % reward\n",
    "    )"
   ]
  },
  {
   "cell_type": "code",
   "execution_count": null,
   "metadata": {
    "colab": {},
    "colab_type": "code",
    "id": "oJSarK_vg3wp"
   },
   "outputs": [],
   "source": [
    "plt.plot(np.arange(len(rewards)), rewards)\n",
    "plt.xlabel('Episode');\n",
    "plt.ylabel('Moving averaged episode reward');\n",
    "plt.show()"
   ]
  },
  {
   "cell_type": "code",
   "execution_count": null,
   "metadata": {},
   "outputs": [],
   "source": []
  }
 ],
 "metadata": {
  "colab": {
   "collapsed_sections": [],
   "name": "PPO (1).ipynb",
   "provenance": [],
   "version": "0.3.2"
  },
  "kernelspec": {
   "display_name": "Python 3",
   "language": "python",
   "name": "python3"
  },
  "language_info": {
   "codemirror_mode": {
    "name": "ipython",
    "version": 3
   },
   "file_extension": ".py",
   "mimetype": "text/x-python",
   "name": "python",
   "nbconvert_exporter": "python",
   "pygments_lexer": "ipython3",
   "version": "3.7.1"
  }
 },
 "nbformat": 4,
 "nbformat_minor": 1
}
