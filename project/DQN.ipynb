{
  "nbformat": 4,
  "nbformat_minor": 0,
  "metadata": {
    "colab": {
      "name": "DQN.ipynb",
      "version": "0.3.2",
      "provenance": []
    },
    "kernelspec": {
      "name": "python3",
      "display_name": "Python 3"
    },
    "accelerator": "GPU"
  },
  "cells": [
    {
      "metadata": {
        "id": "0wBrTmoRW97n",
        "colab_type": "code",
        "colab": {
          "base_uri": "https://localhost:8080/",
          "height": 34
        },
        "outputId": "b22f0e5c-9a3c-4c56-cef2-42f707abfed3"
      },
      "cell_type": "code",
      "source": [
        "import gym\n",
        "from gym.core import ObservationWrapper\n",
        "from gym.spaces import Box\n",
        "from scipy.misc import imresize\n",
        "import tensorflow as tf\n",
        "import numpy as np\n",
        "import matplotlib.pyplot as plt\n",
        "from skimage.color import rgb2gray\n",
        "from skimage import transform\n",
        "from keras.layers import Conv2D, Dense, Flatten, InputLayer\n",
        "import os\n",
        "from IPython import display\n",
        "import random\n",
        "from gym.core import Wrapper\n",
        "from tqdm import trange\n",
        "from IPython.display import clear_output\n",
        "import matplotlib.pyplot as plt\n",
        "from pandas import DataFrame\n",
        "import keras"
      ],
      "execution_count": 1,
      "outputs": [
        {
          "output_type": "stream",
          "text": [
            "Using TensorFlow backend.\n"
          ],
          "name": "stderr"
        }
      ]
    },
    {
      "metadata": {
        "id": "rMr165-IW978",
        "colab_type": "code",
        "colab": {
          "base_uri": "https://localhost:8080/",
          "height": 34
        },
        "outputId": "91080b13-4c50-4830-b94e-37f520d3eb91"
      },
      "cell_type": "code",
      "source": [
        "tf.test.gpu_device_name()"
      ],
      "execution_count": 2,
      "outputs": [
        {
          "output_type": "execute_result",
          "data": {
            "text/plain": [
              "'/device:GPU:0'"
            ]
          },
          "metadata": {
            "tags": []
          },
          "execution_count": 2
        }
      ]
    },
    {
      "metadata": {
        "id": "alGDYTtiW98M",
        "colab_type": "code",
        "colab": {}
      },
      "cell_type": "code",
      "source": [
        "class PreprocessAtari(ObservationWrapper):\n",
        "    def __init__(self, env):\n",
        "        ObservationWrapper.__init__(self, env)\n",
        "        self.img_size = (64, 64, 1)\n",
        "        self.observation_space = Box(0.0, 1.0, self.img_size)\n",
        "\n",
        "    def _observation(self, img):    \n",
        "        img = rgb2gray(img)\n",
        "        img = img[4:-15,5:-5]\n",
        "        img = img / 255.0\n",
        "        img = transform.resize(img, [self.img_size[0], self.img_size[1], self.img_size[2]])\n",
        "        \n",
        "        return img"
      ],
      "execution_count": 0,
      "outputs": []
    },
    {
      "metadata": {
        "id": "dy-h4xsEW98a",
        "colab_type": "code",
        "colab": {}
      },
      "cell_type": "code",
      "source": [
        "class FrameBuffer(Wrapper):\n",
        "    def __init__(self, env, n_frames=4, dim_order='tensorflow'):\n",
        "        super(FrameBuffer, self).__init__(env)\n",
        "        self.dim_order = dim_order\n",
        "        if dim_order == 'tensorflow':\n",
        "            height, width, n_channels = env.observation_space.shape\n",
        "            obs_shape = [height, width, n_channels * n_frames]\n",
        "        elif dim_order == 'pytorch':\n",
        "            n_channels, height, width = env.observation_space.shape\n",
        "            obs_shape = [n_channels * n_frames, height, width]\n",
        "        else:\n",
        "            raise ValueError('dim_order should be \"tensorflow\" or \"pytorch\", got {}'.format(dim_order))\n",
        "        self.observation_space = Box(0.0, 1.0, obs_shape)\n",
        "        self.framebuffer = np.zeros(obs_shape, 'float32')\n",
        "        \n",
        "    def reset(self):\n",
        "        self.framebuffer = np.zeros_like(self.framebuffer)\n",
        "        self.update_buffer(self.env.reset())\n",
        "        return self.framebuffer\n",
        "    \n",
        "    def step(self, action):\n",
        "        new_img, reward, done, info = self.env.step(action)\n",
        "        self.update_buffer(new_img)\n",
        "        return self.framebuffer, reward, done, info\n",
        "    \n",
        "    def update_buffer(self, img):\n",
        "        if self.dim_order == 'tensorflow':\n",
        "            offset = self.env.observation_space.shape[-1]\n",
        "            axis = -1\n",
        "            cropped_framebuffer = self.framebuffer[:,:,:-offset]\n",
        "        elif self.dim_order == 'pytorch':\n",
        "            offset = self.env.observation_space.shape[0]\n",
        "            axis = 0\n",
        "            cropped_framebuffer = self.framebuffer[:-offset]\n",
        "        self.framebuffer = np.concatenate([img, cropped_framebuffer], axis = axis)"
      ],
      "execution_count": 0,
      "outputs": []
    },
    {
      "metadata": {
        "id": "goMnMaoSW98o",
        "colab_type": "code",
        "colab": {
          "base_uri": "https://localhost:8080/",
          "height": 136
        },
        "outputId": "668666be-1d01-455b-a9d1-7feb8cc9be6d"
      },
      "cell_type": "code",
      "source": [
        "def make_env():\n",
        "    env = gym.make(\"BreakoutDeterministic-v4\")\n",
        "    env = PreprocessAtari(env)\n",
        "    env = FrameBuffer(env, n_frames=4, dim_order='tensorflow')\n",
        "    return env\n",
        "\n",
        "env = make_env()\n",
        "env.reset()\n",
        "n_actions = env.action_space.n\n",
        "state_dim = env.observation_space.shape"
      ],
      "execution_count": 5,
      "outputs": [
        {
          "output_type": "stream",
          "text": [
            "/usr/local/lib/python3.6/dist-packages/gym/envs/registration.py:14: PkgResourcesDeprecationWarning: Parameters to load are deprecated.  Call .resolve and .require separately.\n",
            "  result = entry_point.load(False)\n"
          ],
          "name": "stderr"
        },
        {
          "output_type": "stream",
          "text": [
            "\u001b[33mWARN: gym.spaces.Box autodetected dtype as <class 'numpy.float32'>. Please provide explicit dtype.\u001b[0m\n",
            "\u001b[33mWARN: gym.spaces.Box autodetected dtype as <class 'numpy.float32'>. Please provide explicit dtype.\u001b[0m\n",
            "\u001b[33mWARN: <class '__main__.PreprocessAtari'> doesn't implement 'observation' method. Maybe it implements deprecated '_observation' method.\u001b[0m\n"
          ],
          "name": "stdout"
        },
        {
          "output_type": "stream",
          "text": [
            "/usr/local/lib/python3.6/dist-packages/skimage/transform/_warps.py:84: UserWarning: The default mode, 'constant', will be changed to 'reflect' in skimage 0.15.\n",
            "  warn(\"The default mode, 'constant', will be changed to 'reflect' in \"\n"
          ],
          "name": "stderr"
        }
      ]
    },
    {
      "metadata": {
        "id": "hmapQpo6W98-",
        "colab_type": "code",
        "colab": {
          "base_uri": "https://localhost:8080/",
          "height": 570
        },
        "outputId": "81868c0f-8d81-4aa0-fc80-4e0557effa6a"
      },
      "cell_type": "code",
      "source": [
        "for _ in range(50):\n",
        "    obs, _, _, _ = env.step(env.action_space.sample())\n",
        "\n",
        "plt.title(\"Game image\")\n",
        "plt.imshow(env.render(\"rgb_array\"))\n",
        "plt.show()\n",
        "plt.title(\"Agent observation (4 frames left to right)\")\n",
        "plt.imshow(obs.transpose([0, 2, 1]).reshape([state_dim[0], -1]))"
      ],
      "execution_count": 6,
      "outputs": [
        {
          "output_type": "stream",
          "text": [
            "/usr/local/lib/python3.6/dist-packages/skimage/transform/_warps.py:84: UserWarning: The default mode, 'constant', will be changed to 'reflect' in skimage 0.15.\n",
            "  warn(\"The default mode, 'constant', will be changed to 'reflect' in \"\n"
          ],
          "name": "stderr"
        },
        {
          "output_type": "display_data",
          "data": {
            "image/png": "[encoded data removed]",
            "text/plain": [
              "<Figure size 576x396 with 1 Axes>"
            ]
          },
          "metadata": {
            "tags": []
          }
        },
        {
          "output_type": "execute_result",
          "data": {
            "text/plain": [
              "<matplotlib.image.AxesImage at 0x7f38607a4f98>"
            ]
          },
          "metadata": {
            "tags": []
          },
          "execution_count": 6
        },
        {
          "output_type": "display_data",
          "data": {
            "image/png": "[encoded data removed]",
            "text/plain": [
              "<Figure size 576x396 with 1 Axes>"
            ]
          },
          "metadata": {
            "tags": []
          }
        }
      ]
    },
    {
      "metadata": {
        "id": "vNMDE0voW99W",
        "colab_type": "code",
        "colab": {}
      },
      "cell_type": "code",
      "source": [
        "tf.reset_default_graph()\n",
        "sess = tf.InteractiveSession()"
      ],
      "execution_count": 0,
      "outputs": []
    },
    {
      "metadata": {
        "id": "oXuChKjXW99r",
        "colab_type": "code",
        "colab": {}
      },
      "cell_type": "code",
      "source": [
        "class DQNAgent:\n",
        "    def __init__(self, name, state_shape, n_actions, epsilon=0, reuse=False):\n",
        "        \"\"\"A simple DQN agent\"\"\"\n",
        "        with tf.variable_scope(name, reuse=reuse):\n",
        "            self.network = keras.models.Sequential()\n",
        "            self.network.add(Conv2D(16, (3, 3), strides=2, activation='relu', input_shape=state_shape))\n",
        "            self.network.add(Conv2D(32, (3, 3), strides=2, activation='relu'))\n",
        "            self.network.add(Conv2D(64, (3, 3), strides=2, activation='relu'))\n",
        "            self.network.add(Flatten())\n",
        "            self.network.add(Dense(256, activation='relu'))\n",
        "            self.network.add(Dense(n_actions, activation='linear'))\n",
        "            self.state_t = tf.placeholder('float32', [None, ] + list(state_shape))\n",
        "            self.qvalues_t = self.get_symbolic_qvalues(self.state_t)\n",
        "        self.weights = tf.get_collection(tf.GraphKeys.TRAINABLE_VARIABLES, scope=name)\n",
        "        self.epsilon = epsilon\n",
        "\n",
        "    def get_symbolic_qvalues(self, state_t):\n",
        "        qvalues = self.network(state_t)\n",
        "        assert tf.is_numeric_tensor(qvalues) and qvalues.shape.ndims == 2, \\\n",
        "            \"please return 2d tf tensor of qvalues [you got %s]\" % repr(qvalues)\n",
        "        assert int(qvalues.shape[1]) == n_actions\n",
        "        return qvalues\n",
        "\n",
        "    def get_qvalues(self, state_t):\n",
        "        sess = tf.get_default_session()\n",
        "        return sess.run(self.qvalues_t, {self.state_t: state_t})\n",
        "\n",
        "    def sample_actions(self, qvalues):\n",
        "        epsilon = self.epsilon\n",
        "        batch_size, n_actions = qvalues.shape\n",
        "        random_actions = np.random.choice(n_actions, size=batch_size)\n",
        "        best_actions = qvalues.argmax(axis=-1)\n",
        "        should_explore = np.random.choice([0, 1], batch_size, p=[1-epsilon, epsilon])\n",
        "        return np.where(should_explore, random_actions, best_actions)"
      ],
      "execution_count": 0,
      "outputs": []
    },
    {
      "metadata": {
        "id": "fjFhHYCXW9-E",
        "colab_type": "code",
        "colab": {}
      },
      "cell_type": "code",
      "source": [
        "agent = DQNAgent(\"dqn_agent\", state_dim, n_actions, epsilon=0.5)\n",
        "sess.run(tf.global_variables_initializer())"
      ],
      "execution_count": 0,
      "outputs": []
    },
    {
      "metadata": {
        "id": "KgpIqJ3bW9-Z",
        "colab_type": "code",
        "colab": {}
      },
      "cell_type": "code",
      "source": [
        "def evaluate(env, agent, n_games=1, greedy=False, t_max=10000):\n",
        "    rewards = []\n",
        "    for _ in range(n_games):\n",
        "        s = env.reset()\n",
        "        reward = 0\n",
        "        for _ in range(t_max):\n",
        "            qvalues = agent.get_qvalues([s])\n",
        "            action = qvalues.argmax(\n",
        "                axis=-1)[0] if greedy else agent.sample_actions(qvalues)[0]\n",
        "            s, r, done, _ = env.step(action)\n",
        "            reward += r\n",
        "            if done:\n",
        "                break\n",
        "        rewards.append(reward)\n",
        "    return np.mean(rewards)"
      ],
      "execution_count": 0,
      "outputs": []
    },
    {
      "metadata": {
        "id": "nm1GQ2FkW9-o",
        "colab_type": "code",
        "colab": {}
      },
      "cell_type": "code",
      "source": [
        "class ReplayBuffer(object):\n",
        "    def __init__(self, size):\n",
        "        self._storage = []\n",
        "        self._maxsize = size\n",
        "        self._current = 0\n",
        "        self._flag = 0\n",
        "\n",
        "    def __len__(self):\n",
        "        return len(self._storage)\n",
        "\n",
        "    def add(self, obs_t, action, reward, obs_tp1, done):\n",
        "        data = (obs_t, action, reward, obs_tp1, done)\n",
        "        if self._flag:\n",
        "            self._storage[self._current] = data\n",
        "        else:\n",
        "            self._storage.append(data)\n",
        "        self._current += 1\n",
        "        if self._current == self._maxsize:\n",
        "            self._flag = 1\n",
        "        self._current %= self._maxsize\n",
        "\n",
        "    def sample(self, batch_size):\n",
        "        idxes = [random.randint(0, self.__len__() - 1) for _ in range(batch_size)]\n",
        "        obs_batch, act_batch, rew_batch, next_obs_batch, done_mask = [], [], [], [], []\n",
        "        for i in idxes:\n",
        "            data = self._storage[i]\n",
        "            obs, act, rew, next_obs, done = data\n",
        "            obs_batch.append(np.array(obs, copy=False))\n",
        "            act_batch.append(np.array(act, copy=False))\n",
        "            rew_batch.append(rew)\n",
        "            next_obs_batch.append(np.array(next_obs, copy=False))\n",
        "            done_mask.append(done)\n",
        "        return np.array(obs_batch), np.array(act_batch), np.array(rew_batch), np.array(next_obs_batch), np.array(done_mask)"
      ],
      "execution_count": 0,
      "outputs": []
    },
    {
      "metadata": {
        "id": "zBo1iUGJW9-6",
        "colab_type": "code",
        "colab": {}
      },
      "cell_type": "code",
      "source": [
        "def play_and_record(agent, env, exp_replay, n_steps=1):\n",
        "    s = env.framebuffer\n",
        "    reward = 0\n",
        "    for i in range(n_steps):\n",
        "        qvalues = agent.get_qvalues([s])\n",
        "        action = agent.sample_actions(qvalues)[0]\n",
        "        next_s, done, rew, _ = env.step(action)\n",
        "        reward += rew\n",
        "        exp_replay.add(s, action, rew, next_s, done)\n",
        "        s = next_s\n",
        "        if done:\n",
        "            s = env.reset()\n",
        "    return reward"
      ],
      "execution_count": 0,
      "outputs": []
    },
    {
      "metadata": {
        "id": "YYZgDPRFW9_J",
        "colab_type": "code",
        "colab": {}
      },
      "cell_type": "code",
      "source": [
        "target_network = DQNAgent(\"target_network\", state_dim, n_actions)"
      ],
      "execution_count": 0,
      "outputs": []
    },
    {
      "metadata": {
        "id": "LFgkuBt1W9_Y",
        "colab_type": "code",
        "colab": {}
      },
      "cell_type": "code",
      "source": [
        "def load_weigths_into_target_network(agent, target_network):\n",
        "    assigns = []\n",
        "    for w_agent, w_target in zip(agent.weights, target_network.weights):\n",
        "        assigns.append(tf.assign(w_target, w_agent, validate_shape=True))\n",
        "    return assigns"
      ],
      "execution_count": 0,
      "outputs": []
    },
    {
      "metadata": {
        "id": "eFORrJChW-AI",
        "colab_type": "code",
        "colab": {
          "base_uri": "https://localhost:8080/",
          "height": 8976
        },
        "outputId": "e6ef3e76-b9d3-4bf3-de6b-314ca811c014"
      },
      "cell_type": "code",
      "source": [
        "copy_step = load_weigths_into_target_network(agent, target_network)\n",
        "sess.run(copy_step)"
      ],
      "execution_count": 15,
      "outputs": [
        {
          "output_type": "execute_result",
          "data": {
            "text/plain": [
              "[array([[[[-9.32773277e-02,  1.47750258e-01, -6.05347529e-02,\n",
              "            2.98604667e-02, -1.09980553e-02,  4.31346595e-02,\n",
              "            1.58811480e-01,  1.02237165e-02, -1.66936234e-01,\n",
              "           -2.71906555e-02, -4.89466637e-02,  1.09597236e-01,\n",
              "           -1.09377906e-01,  1.78830475e-02,  2.48032212e-02,\n",
              "            1.16941899e-01],\n",
              "          [-1.69248879e-02,  8.64113867e-03, -3.85323763e-02,\n",
              "           -9.60095227e-03,  7.11244345e-02,  1.55548066e-01,\n",
              "           -1.68202192e-01,  6.30101264e-02, -9.54018086e-02,\n",
              "           -1.01178423e-01,  1.39364481e-01, -1.23848975e-01,\n",
              "           -7.36036226e-02,  1.61639482e-01,  1.72322780e-01,\n",
              "           -1.65464342e-01],\n",
              "          [ 1.44556791e-01,  1.77243918e-01,  1.77848577e-01,\n",
              "           -2.10137963e-02,  2.98531353e-03, -1.64527074e-01,\n",
              "            8.03773999e-02,  4.69498932e-02, -1.21573493e-01,\n",
              "           -1.11942858e-01,  6.62287027e-02, -1.33902013e-01,\n",
              "           -1.18520319e-01,  5.80579937e-02, -1.50236785e-01,\n",
              "           -1.26053542e-01],\n",
              "          [ 7.24235177e-02,  9.79191065e-02,  1.07044190e-01,\n",
              "           -2.24190056e-02,  1.45644546e-01, -1.12749584e-01,\n",
              "           -1.25208214e-01,  1.07842147e-01,  9.20500159e-02,\n",
              "           -2.29515135e-03, -1.40329212e-01,  3.15742195e-03,\n",
              "           -1.48997813e-01, -1.27833575e-01,  1.27415568e-01,\n",
              "            1.44544214e-01]],\n",
              " \n",
              "         [[ 1.34611160e-01, -1.78564847e-01,  8.22626948e-02,\n",
              "           -4.54131067e-02, -1.30734667e-01, -1.50675207e-01,\n",
              "            7.93156922e-02, -1.42998114e-01,  1.46255910e-01,\n",
              "            4.78067696e-02,  6.53108507e-02,  1.25095636e-01,\n",
              "           -1.40723452e-01, -1.48527831e-01,  1.25941455e-01,\n",
              "           -1.79856315e-01],\n",
              "          [-1.78515315e-02,  8.51525962e-02, -8.84804204e-02,\n",
              "           -1.19232669e-01, -1.22089177e-01,  9.67835486e-02,\n",
              "            1.03488505e-01,  3.11051756e-02, -1.74500108e-01,\n",
              "           -9.79168341e-02, -8.44955072e-02, -1.45832896e-01,\n",
              "            1.46568596e-01, -1.73531935e-01, -1.85997188e-02,\n",
              "            1.76575959e-01],\n",
              "          [ 1.75459743e-01, -1.70336545e-01, -6.71897829e-03,\n",
              "           -1.35169491e-01,  6.27953112e-02,  2.86531001e-02,\n",
              "           -3.28746438e-02, -7.05144927e-02, -1.67874590e-01,\n",
              "            4.54038382e-05, -3.96404117e-02,  1.81316376e-01,\n",
              "           -1.43106669e-01, -1.69981956e-01, -1.18619785e-01,\n",
              "            9.07137692e-02],\n",
              "          [ 3.07032764e-02, -9.38303247e-02,  5.83901256e-02,\n",
              "           -1.67678744e-02,  1.44464344e-01,  4.31869328e-02,\n",
              "            9.08024907e-02, -1.80822134e-01,  9.61672366e-02,\n",
              "           -1.56687826e-01,  1.15917921e-01,  2.73843110e-02,\n",
              "           -5.54231405e-02,  1.56061739e-01, -1.54532224e-01,\n",
              "           -1.36057526e-01]],\n",
              " \n",
              "         [[ 7.64442384e-02, -8.60790089e-02, -2.04362422e-02,\n",
              "           -1.09055832e-01, -8.08469951e-03,  3.94786596e-02,\n",
              "           -1.12376541e-01, -4.79578078e-02, -1.55680522e-01,\n",
              "            5.40840924e-02, -1.27041131e-01, -8.05098563e-02,\n",
              "           -1.22268215e-01,  1.25849009e-01,  4.72280532e-02,\n",
              "            1.34120762e-01],\n",
              "          [ 7.16248751e-02, -1.54389590e-01,  2.60930657e-02,\n",
              "           -1.03753991e-01, -9.44248438e-02, -1.37237564e-01,\n",
              "           -1.56432092e-01, -4.42315489e-02,  1.38652325e-02,\n",
              "            6.43133819e-02,  5.25887460e-02, -2.26462185e-02,\n",
              "           -4.66866344e-02, -1.08277231e-01,  1.27166808e-01,\n",
              "            9.27744508e-02],\n",
              "          [ 1.38540566e-03, -1.41265392e-01,  1.67611748e-01,\n",
              "            6.88128173e-02,  1.21098578e-01,  8.79920125e-02,\n",
              "            1.65148914e-01, -1.46244854e-01,  8.76806676e-02,\n",
              "            3.27384770e-02,  1.67550653e-01, -8.83248970e-02,\n",
              "            1.56896263e-02, -1.31143838e-01,  3.61559987e-02,\n",
              "            1.87440217e-03],\n",
              "          [-4.37005758e-02, -2.99161673e-03,  1.50859624e-01,\n",
              "           -4.65030223e-02, -7.08869696e-02, -1.76082209e-01,\n",
              "            6.29436076e-02,  1.32241040e-01, -1.64643332e-01,\n",
              "            1.17134392e-01,  1.24128997e-01,  1.26892298e-01,\n",
              "            5.53103089e-02, -1.43073201e-01,  1.22704327e-01,\n",
              "           -1.31442875e-01]]],\n",
              " \n",
              " \n",
              "        [[[ 1.47820204e-01, -2.58414745e-02, -1.79289997e-01,\n",
              "            1.23488456e-01, -1.86384916e-02,  1.01463109e-01,\n",
              "            1.18316740e-01,  1.55925900e-01, -1.27758935e-01,\n",
              "           -5.08643389e-02,  1.68198138e-01, -4.88213003e-02,\n",
              "            1.72238380e-01, -2.16730833e-02, -8.24504271e-02,\n",
              "            6.40466362e-02],\n",
              "          [ 1.67208284e-01,  1.60612196e-01,  5.96162975e-02,\n",
              "           -1.27714276e-01,  1.17098540e-01, -4.51092720e-02,\n",
              "            2.69124657e-02, -2.34712660e-02,  1.39053077e-01,\n",
              "           -1.21588595e-01, -1.06481001e-01,  3.94816995e-02,\n",
              "            1.72240824e-01,  1.08021200e-01,  1.45253688e-01,\n",
              "            1.62028730e-01],\n",
              "          [-2.95579433e-02, -1.17293321e-01,  7.24127889e-03,\n",
              "           -9.26163793e-02, -4.97902185e-02, -6.42338097e-02,\n",
              "           -9.17832330e-02,  9.99938250e-02, -5.77232540e-02,\n",
              "            7.99819231e-02, -1.22807920e-03, -6.08975291e-02,\n",
              "            1.18757516e-01,  1.53391063e-01, -1.82476074e-01,\n",
              "            5.55952936e-02],\n",
              "          [-1.20860577e-01,  4.99404967e-03, -3.28412950e-02,\n",
              "           -5.10121882e-03,  6.67743832e-02, -1.31442398e-01,\n",
              "           -1.03885017e-01, -1.43658489e-01,  1.00368857e-01,\n",
              "            1.45494819e-01, -3.96219939e-02,  1.52267545e-01,\n",
              "            5.50059974e-03, -7.72163272e-04, -6.36062995e-02,\n",
              "           -1.05507605e-01]],\n",
              " \n",
              "         [[ 1.33987069e-01,  1.68424398e-01,  1.38633549e-02,\n",
              "           -1.57106489e-01, -6.89423978e-02,  1.03688866e-01,\n",
              "           -1.72539160e-01, -8.64937529e-02,  1.33063465e-01,\n",
              "           -8.64356756e-04,  1.62361443e-01,  1.29561871e-01,\n",
              "            1.72074795e-01,  1.19796395e-03, -1.63627937e-01,\n",
              "            1.33523732e-01],\n",
              "          [ 3.35052609e-03,  2.11065561e-02,  5.49602509e-03,\n",
              "            7.44735599e-02,  1.81663036e-01, -4.73879725e-02,\n",
              "           -1.11869857e-01, -8.14145654e-02, -8.88914242e-02,\n",
              "            9.93907452e-03,  1.44670933e-01, -1.45958185e-01,\n",
              "            1.18119419e-01,  1.60858572e-01,  9.20079350e-02,\n",
              "            1.43066764e-01],\n",
              "          [ 9.44866538e-02, -1.07867405e-01, -1.63867563e-01,\n",
              "            5.31980097e-02, -2.05176026e-02,  1.16167307e-01,\n",
              "           -1.80697605e-01,  1.46068186e-01, -8.21915194e-02,\n",
              "           -2.79988199e-02,  6.28939867e-02,  2.31552869e-02,\n",
              "            1.61054850e-01,  6.99522793e-02, -1.79875895e-01,\n",
              "           -1.07512727e-01],\n",
              "          [-1.72894627e-01, -1.27356544e-01, -1.35791749e-01,\n",
              "            2.31635123e-02, -1.67916730e-01, -9.89904329e-02,\n",
              "           -7.46622086e-02, -4.29706424e-02, -8.51550177e-02,\n",
              "            4.27041948e-02, -1.60479307e-01,  2.40351856e-02,\n",
              "           -3.37530524e-02,  1.52350843e-01, -6.74755126e-02,\n",
              "            1.74438864e-01]],\n",
              " \n",
              "         [[-5.42246103e-02, -1.18263543e-01,  1.34475917e-01,\n",
              "            8.50981176e-02, -6.97486401e-02, -5.43100089e-02,\n",
              "            1.31525248e-01, -9.72175822e-02, -1.62691712e-01,\n",
              "            6.25622123e-02, -1.74094722e-01,  3.03332359e-02,\n",
              "           -4.81788516e-02,  7.67541826e-02,  9.37258601e-02,\n",
              "           -1.07570402e-01],\n",
              "          [-1.63517892e-02,  1.46829247e-01,  7.95096159e-04,\n",
              "            9.36207175e-02,  2.17196196e-02,  1.17223799e-01,\n",
              "            1.59232944e-01, -1.18453674e-01,  2.46277004e-02,\n",
              "            1.81912422e-01,  1.10254854e-01, -5.76935261e-02,\n",
              "           -7.15254545e-02,  2.95590311e-02, -1.37029588e-02,\n",
              "           -1.44308686e-01],\n",
              "          [ 5.52603006e-02,  1.19995445e-01,  3.75120044e-02,\n",
              "           -5.64137697e-02, -8.29906240e-02, -1.82081789e-01,\n",
              "            1.07264221e-01, -5.08534610e-02, -5.50276339e-02,\n",
              "           -9.57778990e-02, -3.21434885e-02,  2.00848430e-02,\n",
              "           -6.19931072e-02,  5.57747185e-02, -5.84479272e-02,\n",
              "           -3.88701111e-02],\n",
              "          [-3.31156999e-02, -9.83368009e-02,  1.78093463e-01,\n",
              "           -8.59982222e-02, -1.40292123e-01,  5.34192771e-02,\n",
              "            6.74174875e-02,  7.59656429e-02, -6.04037344e-02,\n",
              "            1.59065187e-01, -1.06851913e-01, -1.55680001e-01,\n",
              "           -2.31478065e-02,  6.65381551e-02,  8.90026093e-02,\n",
              "            1.40213847e-01]]],\n",
              " \n",
              " \n",
              "        [[[-3.74347866e-02,  6.13165349e-02,  1.81772560e-01,\n",
              "            1.27646744e-01,  1.14215195e-01,  7.15689063e-02,\n",
              "            4.65952158e-02,  1.04734898e-02,  1.18892372e-01,\n",
              "            1.33666307e-01, -7.42634386e-02,  1.13273025e-01,\n",
              "           -8.90144855e-02, -8.39392990e-02, -1.70387626e-02,\n",
              "           -4.69151139e-02],\n",
              "          [-8.21597874e-02,  5.10735810e-03, -1.45957217e-01,\n",
              "            1.15292907e-01,  6.28392249e-02, -7.31090009e-02,\n",
              "            2.85219550e-02,  6.03897572e-02,  1.12422019e-01,\n",
              "            1.46997899e-01, -1.31130472e-01,  1.62124038e-02,\n",
              "            8.33299756e-02,  9.65457857e-02, -1.14076585e-02,\n",
              "           -9.27266404e-02],\n",
              "          [ 5.40326536e-03, -1.76348537e-02, -1.01016931e-01,\n",
              "            7.47223496e-02, -3.27989012e-02,  6.60307407e-02,\n",
              "           -8.26743245e-03, -1.41993076e-01,  7.62655437e-02,\n",
              "            1.58764690e-01,  5.09743392e-02,  8.06266367e-02,\n",
              "           -2.00772583e-02,  1.66505516e-01, -8.22326988e-02,\n",
              "            1.59865588e-01],\n",
              "          [ 3.87692600e-02, -1.10132396e-01, -8.44798833e-02,\n",
              "           -1.65678635e-01, -1.30785108e-01,  1.40285909e-01,\n",
              "           -9.24093127e-02,  4.17419970e-02, -1.21487916e-01,\n",
              "           -1.73686743e-02, -1.53104395e-01, -9.62633342e-02,\n",
              "            4.25291657e-02, -1.53950766e-01, -6.29741251e-02,\n",
              "            1.14083409e-01]],\n",
              " \n",
              "         [[ 4.22166288e-03, -1.35813937e-01, -4.58685905e-02,\n",
              "           -8.35021734e-02,  4.51561064e-02, -1.60477385e-01,\n",
              "           -1.11460254e-01,  3.60968858e-02,  1.13878369e-01,\n",
              "           -9.47530046e-02, -1.04943991e-01,  6.32723421e-02,\n",
              "           -1.94922835e-02,  3.34051251e-03,  1.35860026e-01,\n",
              "           -7.12677240e-02],\n",
              "          [ 1.79409802e-01,  5.11192381e-02,  3.35680544e-02,\n",
              "           -1.76578537e-01,  9.30018723e-02, -1.54873893e-01,\n",
              "            1.21204466e-01,  2.43766308e-02, -1.52127296e-01,\n",
              "            2.76639462e-02, -6.14869967e-02, -1.47048682e-02,\n",
              "            7.95439482e-02, -4.56791967e-02,  6.79838359e-02,\n",
              "            3.06720287e-02],\n",
              "          [ 1.27697289e-02,  9.92232263e-02, -7.21409917e-04,\n",
              "           -1.63155645e-01,  3.39281708e-02, -2.96785980e-02,\n",
              "           -5.41870445e-02, -5.63964844e-02, -1.03110202e-01,\n",
              "           -1.43567517e-01, -9.42012295e-02,  1.48020029e-01,\n",
              "           -5.06635755e-02, -9.11723524e-02,  6.95910156e-02,\n",
              "           -8.51503164e-02],\n",
              "          [ 4.00365591e-02, -6.58759922e-02, -7.54058957e-02,\n",
              "           -1.50373429e-02,  1.08426452e-01, -8.78647044e-02,\n",
              "           -2.92663276e-03, -1.51779532e-01, -1.18805781e-01,\n",
              "            1.12103999e-01,  1.61909789e-01,  1.36698484e-01,\n",
              "           -9.67703611e-02,  1.84838027e-02,  1.45117491e-01,\n",
              "           -1.03133053e-01]],\n",
              " \n",
              "         [[ 9.42204893e-03, -4.10805643e-02,  8.79023671e-02,\n",
              "           -1.08945273e-01,  2.41667032e-04, -5.66317588e-02,\n",
              "           -2.77037323e-02, -1.39805645e-01,  8.92079771e-02,\n",
              "           -8.30326751e-02,  1.46468759e-01, -8.36176127e-02,\n",
              "            1.49951130e-02, -2.34723985e-02,  1.16078556e-03,\n",
              "            9.03336704e-03],\n",
              "          [ 1.35723650e-02,  1.01386607e-02, -1.11399308e-01,\n",
              "           -1.20884299e-01,  1.63402110e-02,  9.00025368e-02,\n",
              "            5.06735444e-02, -1.78283960e-01, -8.37650523e-02,\n",
              "            3.67654413e-02, -8.79182443e-02, -1.45224333e-02,\n",
              "           -5.69647998e-02,  1.38722569e-01, -1.57864988e-01,\n",
              "            1.67320251e-01],\n",
              "          [ 4.95029688e-02, -1.28215820e-01, -1.08884573e-02,\n",
              "           -1.30454302e-01, -7.76801631e-02, -2.39212364e-02,\n",
              "           -1.31045327e-01, -1.47056714e-01,  9.23033953e-02,\n",
              "           -1.22279316e-01, -1.14033125e-01,  9.58852470e-02,\n",
              "           -1.49008512e-01, -1.47749037e-02, -1.00302659e-01,\n",
              "           -9.59029570e-02],\n",
              "          [-7.78988078e-02, -4.78938669e-02, -7.74431899e-02,\n",
              "            1.75133497e-01,  7.13832676e-03, -6.37375414e-02,\n",
              "            3.84624600e-02, -1.47951156e-01,  9.58519280e-02,\n",
              "            1.47904396e-01,  5.71684390e-02, -7.64539465e-02,\n",
              "           -9.15631950e-02, -6.63479790e-02, -1.74073830e-01,\n",
              "            4.32860106e-02]]]], dtype=float32),\n",
              " array([0., 0., 0., 0., 0., 0., 0., 0., 0., 0., 0., 0., 0., 0., 0., 0.],\n",
              "       dtype=float32),\n",
              " array([[[[-0.0039636 , -0.0874541 ,  0.07711359, ...,  0.05828331,\n",
              "            0.02457695, -0.05233644],\n",
              "          [-0.0151013 , -0.08033423,  0.05445486, ...,  0.10758603,\n",
              "            0.02631683, -0.02385203],\n",
              "          [ 0.07265682, -0.02345335, -0.04638022, ..., -0.06526403,\n",
              "            0.0126086 , -0.10707893],\n",
              "          ...,\n",
              "          [ 0.0785018 ,  0.03196294, -0.0610825 , ..., -0.00173901,\n",
              "           -0.08585586,  0.05838432],\n",
              "          [-0.07812899,  0.05281354, -0.09938845, ...,  0.05412728,\n",
              "           -0.02433458, -0.06880664],\n",
              "          [ 0.02777611, -0.08828641, -0.08260406, ..., -0.02142895,\n",
              "           -0.04559921, -0.07906305]],\n",
              " \n",
              "         [[-0.02248155,  0.08790607, -0.10554647, ...,  0.00838289,\n",
              "            0.04884668,  0.02630814],\n",
              "          [ 0.06591641, -0.05530211, -0.0437822 , ...,  0.08014203,\n",
              "           -0.04729924, -0.0141605 ],\n",
              "          [-0.10828087,  0.09463546,  0.06284259, ...,  0.02726261,\n",
              "            0.05192076, -0.09759665],\n",
              "          ...,\n",
              "          [-0.10797969,  0.03886383, -0.11082683, ...,  0.00616909,\n",
              "            0.1107438 , -0.09922712],\n",
              "          [ 0.09818918, -0.04369269, -0.07264785, ..., -0.00871608,\n",
              "            0.03665439,  0.06667463],\n",
              "          [ 0.02581329,  0.03153137,  0.01496825, ..., -0.10055224,\n",
              "           -0.05034132,  0.03990205]],\n",
              " \n",
              "         [[-0.08508617,  0.07054248,  0.01581524, ..., -0.02197087,\n",
              "           -0.02793684,  0.03931054],\n",
              "          [-0.01170536, -0.01498751, -0.08981083, ..., -0.08892743,\n",
              "           -0.07509537, -0.04242625],\n",
              "          [ 0.07763056, -0.01587399, -0.04818523, ...,  0.01655857,\n",
              "           -0.04048447, -0.05531206],\n",
              "          ...,\n",
              "          [ 0.10815962, -0.02450806, -0.07393119, ...,  0.11539572,\n",
              "            0.09769847,  0.09316786],\n",
              "          [ 0.09672881,  0.06101116, -0.08716117, ...,  0.02552178,\n",
              "           -0.07563409, -0.07103452],\n",
              "          [-0.00395107,  0.01816133, -0.07391678, ...,  0.10145859,\n",
              "            0.02885603, -0.0637053 ]]],\n",
              " \n",
              " \n",
              "        [[[-0.0158083 ,  0.07879514,  0.03199854, ..., -0.09137316,\n",
              "            0.10553361, -0.09614331],\n",
              "          [ 0.09541867, -0.027863  , -0.08437046, ...,  0.09183461,\n",
              "           -0.0543668 ,  0.05145251],\n",
              "          [-0.10718092, -0.08905193,  0.07508942, ...,  0.01931348,\n",
              "           -0.09282191, -0.01874186],\n",
              "          ...,\n",
              "          [ 0.01871879, -0.02888566, -0.02483036, ...,  0.07603662,\n",
              "            0.0685081 ,  0.08228292],\n",
              "          [-0.02427046,  0.06191237,  0.0896112 , ...,  0.05829325,\n",
              "           -0.02724338,  0.08989318],\n",
              "          [ 0.03550962, -0.06770276, -0.03497216, ..., -0.00653521,\n",
              "            0.05989014,  0.06227379]],\n",
              " \n",
              "         [[-0.05122497, -0.00488999,  0.1022455 , ..., -0.08985422,\n",
              "           -0.01555039,  0.08359464],\n",
              "          [ 0.05176743,  0.10743996,  0.01697009, ..., -0.04132417,\n",
              "           -0.07181963,  0.01757254],\n",
              "          [ 0.0821357 ,  0.01294912,  0.06119444, ..., -0.0184413 ,\n",
              "           -0.10945107,  0.07375327],\n",
              "          ...,\n",
              "          [ 0.06773957, -0.095338  ,  0.02827197, ...,  0.06899659,\n",
              "           -0.09600481,  0.09982155],\n",
              "          [-0.02969655, -0.05576936,  0.08840532, ...,  0.0836386 ,\n",
              "            0.10387354,  0.00762662],\n",
              "          [ 0.08020747,  0.11129328, -0.09543677, ..., -0.03047293,\n",
              "            0.07624089, -0.10851675]],\n",
              " \n",
              "         [[ 0.11097602,  0.03989107,  0.04148314, ...,  0.08837239,\n",
              "           -0.03079336, -0.06938394],\n",
              "          [ 0.01056883,  0.09509525,  0.04175176, ..., -0.02726092,\n",
              "           -0.00096323,  0.03126762],\n",
              "          [ 0.09204892,  0.09319744,  0.008556  , ..., -0.10186742,\n",
              "            0.01770348, -0.08389445],\n",
              "          ...,\n",
              "          [ 0.02441994,  0.00731979, -0.07490012, ...,  0.0211832 ,\n",
              "           -0.08173575,  0.03235524],\n",
              "          [ 0.03383844,  0.09535151,  0.09679397, ..., -0.06715176,\n",
              "           -0.03319615,  0.03970579],\n",
              "          [ 0.04000851,  0.02357274, -0.10800652, ...,  0.08199579,\n",
              "           -0.01620184,  0.02914778]]],\n",
              " \n",
              " \n",
              "        [[[ 0.00923432, -0.06410915,  0.07585924, ..., -0.05851539,\n",
              "            0.06797688,  0.10999954],\n",
              "          [-0.10221201, -0.10422955,  0.0293385 , ...,  0.02545472,\n",
              "            0.11303531, -0.02499899],\n",
              "          [-0.0973314 , -0.10331966, -0.00766775, ...,  0.05422259,\n",
              "            0.0577899 ,  0.02521203],\n",
              "          ...,\n",
              "          [-0.0064318 ,  0.0172608 ,  0.08266757, ..., -0.07684374,\n",
              "            0.11665481,  0.02394743],\n",
              "          [-0.11607211, -0.0304409 , -0.02091998, ...,  0.11629701,\n",
              "            0.08998484,  0.07529549],\n",
              "          [ 0.04738859,  0.02939006, -0.06845019, ...,  0.02929439,\n",
              "           -0.10669309,  0.04926408]],\n",
              " \n",
              "         [[ 0.05788089,  0.11020435,  0.02031703, ...,  0.02285809,\n",
              "           -0.11147223,  0.04025193],\n",
              "          [-0.00269318, -0.05417216, -0.01458899, ..., -0.0720948 ,\n",
              "            0.07438841,  0.11582195],\n",
              "          [-0.03191967,  0.02681539,  0.08459856, ..., -0.01956619,\n",
              "            0.0240727 , -0.05213169],\n",
              "          ...,\n",
              "          [ 0.07016782,  0.05877269, -0.04122378, ...,  0.07223534,\n",
              "           -0.00240903, -0.10088719],\n",
              "          [ 0.09288443,  0.0494323 , -0.04209805, ...,  0.08262449,\n",
              "            0.00144269, -0.04350772],\n",
              "          [-0.07577775,  0.0126474 ,  0.00988866, ..., -0.06403346,\n",
              "           -0.01292762,  0.00282701]],\n",
              " \n",
              "         [[-0.01132025, -0.00105143,  0.02679702, ...,  0.01856453,\n",
              "            0.04866127, -0.10386375],\n",
              "          [-0.0931975 ,  0.04462548,  0.04093873, ..., -0.05959536,\n",
              "            0.10263134,  0.0978808 ],\n",
              "          [-0.0748614 , -0.06186427, -0.07805714, ...,  0.03547994,\n",
              "            0.0957158 , -0.07458241],\n",
              "          ...,\n",
              "          [ 0.01155139, -0.11395025,  0.05222989, ...,  0.00365863,\n",
              "           -0.03836811,  0.04119728],\n",
              "          [-0.04152167, -0.064932  , -0.11659898, ...,  0.00431671,\n",
              "            0.11314689, -0.04185899],\n",
              "          [ 0.03644142,  0.03892346,  0.01575191, ...,  0.07873537,\n",
              "            0.04107205, -0.04752173]]]], dtype=float32),\n",
              " array([0., 0., 0., 0., 0., 0., 0., 0., 0., 0., 0., 0., 0., 0., 0., 0., 0.,\n",
              "        0., 0., 0., 0., 0., 0., 0., 0., 0., 0., 0., 0., 0., 0., 0.],\n",
              "       dtype=float32),\n",
              " array([[[[ 0.00989523,  0.00482275, -0.01107844, ..., -0.00943808,\n",
              "            0.07727722, -0.04933107],\n",
              "          [ 0.03203416,  0.03133246,  0.06726245, ..., -0.07858455,\n",
              "            0.08077685, -0.03205337],\n",
              "          [ 0.00222397, -0.06028156,  0.03873882, ...,  0.07818652,\n",
              "            0.01666073,  0.08127985],\n",
              "          ...,\n",
              "          [-0.00291298,  0.04312632,  0.03497378, ...,  0.0424765 ,\n",
              "           -0.01311205, -0.0686702 ],\n",
              "          [ 0.00325584,  0.01013412,  0.00565461, ...,  0.01161905,\n",
              "           -0.05725833, -0.06473838],\n",
              "          [ 0.06193877, -0.03395609,  0.01467542, ..., -0.03598557,\n",
              "            0.06833389,  0.08326093]],\n",
              " \n",
              "         [[ 0.05196363,  0.01531937,  0.03180329, ...,  0.00254035,\n",
              "            0.03130138, -0.05026821],\n",
              "          [-0.07784041,  0.06079645, -0.00660356, ..., -0.01453134,\n",
              "            0.06856457,  0.05979266],\n",
              "          [ 0.04482432,  0.01378938, -0.07054311, ..., -0.01805993,\n",
              "           -0.07924354,  0.04541155],\n",
              "          ...,\n",
              "          [-0.00825789,  0.01895694,  0.08017161, ...,  0.03427174,\n",
              "           -0.06715276, -0.01271713],\n",
              "          [ 0.07722344,  0.08183982,  0.01038486, ...,  0.07345261,\n",
              "           -0.033102  ,  0.00440755],\n",
              "          [ 0.08210482, -0.05664071, -0.07647469, ...,  0.03849778,\n",
              "            0.03789107,  0.07667456]],\n",
              " \n",
              "         [[ 0.0674393 ,  0.08022643,  0.05570752, ..., -0.04489668,\n",
              "           -0.06856652,  0.04941533],\n",
              "          [ 0.08317515,  0.03695714, -0.05974666, ..., -0.01077267,\n",
              "           -0.0033856 , -0.03801727],\n",
              "          [ 0.07526556, -0.02129614,  0.06605727, ...,  0.00898417,\n",
              "            0.00530437, -0.07019504],\n",
              "          ...,\n",
              "          [-0.076536  , -0.01732091, -0.03238521, ...,  0.06532351,\n",
              "           -0.05585905,  0.04667028],\n",
              "          [-0.05817588, -0.0008686 , -0.04332616, ..., -0.00383125,\n",
              "            0.03459833, -0.07619445],\n",
              "          [-0.04488729,  0.03769419,  0.01116212, ..., -0.04053881,\n",
              "           -0.0416495 , -0.04268577]]],\n",
              " \n",
              " \n",
              "        [[[ 0.05800834, -0.03111637, -0.00666406, ..., -0.01692166,\n",
              "            0.01691172,  0.02043885],\n",
              "          [ 0.02549251, -0.00803979,  0.05235364, ...,  0.034343  ,\n",
              "            0.04680374,  0.02743032],\n",
              "          [-0.00972172, -0.06359967, -0.00090285, ...,  0.07882641,\n",
              "            0.04797288,  0.04413182],\n",
              "          ...,\n",
              "          [ 0.06772692,  0.01689569, -0.03586444, ..., -0.02986288,\n",
              "           -0.02540076,  0.03462914],\n",
              "          [-0.00451151,  0.04740045,  0.06539866, ..., -0.04964225,\n",
              "           -0.05372292, -0.04907672],\n",
              "          [ 0.05853356, -0.06721877, -0.0647254 , ...,  0.01802453,\n",
              "           -0.06954589, -0.07410437]],\n",
              " \n",
              "         [[ 0.00967643,  0.05852703,  0.0723095 , ..., -0.0821574 ,\n",
              "            0.03529867, -0.05181237],\n",
              "          [-0.02491194,  0.06170464,  0.03148659, ..., -0.01981866,\n",
              "           -0.05756996, -0.03395174],\n",
              "          [-0.02530742,  0.061492  ,  0.03028551, ...,  0.04711863,\n",
              "            0.07973286,  0.04586802],\n",
              "          ...,\n",
              "          [-0.01526133, -0.08159834,  0.07800432, ..., -0.04861758,\n",
              "           -0.01451109, -0.04766645],\n",
              "          [-0.03734082,  0.05468098, -0.03733188, ..., -0.03361736,\n",
              "            0.02596619,  0.02401278],\n",
              "          [-0.04625362,  0.0830381 , -0.03915864, ...,  0.06611825,\n",
              "            0.08153518, -0.07988064]],\n",
              " \n",
              "         [[-0.04049746,  0.06889644,  0.00674208, ..., -0.01443354,\n",
              "           -0.06658864,  0.0072997 ],\n",
              "          [-0.00043195, -0.03034282,  0.04601278, ...,  0.07508294,\n",
              "            0.03009775, -0.00894326],\n",
              "          [-0.07251104, -0.03502731, -0.02700949, ..., -0.0404823 ,\n",
              "            0.0012931 , -0.03376202],\n",
              "          ...,\n",
              "          [-0.07414454, -0.05786815, -0.01619601, ...,  0.03682288,\n",
              "           -0.03252242,  0.0365115 ],\n",
              "          [-0.05926786, -0.00546905,  0.01961132, ...,  0.06027768,\n",
              "           -0.00522806, -0.03233322],\n",
              "          [ 0.01328512,  0.05417522, -0.03471506, ...,  0.08016618,\n",
              "           -0.0723785 , -0.00591516]]],\n",
              " \n",
              " \n",
              "        [[[ 0.00484792, -0.05281536,  0.05157366, ..., -0.06022843,\n",
              "            0.04788431, -0.00839283],\n",
              "          [ 0.00022993, -0.03676569,  0.01019768, ...,  0.03248441,\n",
              "           -0.05336261,  0.07741568],\n",
              "          [ 0.06084455, -0.02821255, -0.07495654, ..., -0.00569477,\n",
              "            0.03724837,  0.04579117],\n",
              "          ...,\n",
              "          [ 0.06802801, -0.00890806, -0.03589527, ..., -0.03811824,\n",
              "            0.01372609, -0.04299849],\n",
              "          [ 0.02438629,  0.07676616,  0.04327372, ...,  0.03546592,\n",
              "           -0.05481128,  0.06445263],\n",
              "          [ 0.01542471,  0.05212446, -0.06288477, ...,  0.03826479,\n",
              "            0.04823429,  0.02911329]],\n",
              " \n",
              "         [[ 0.01785409, -0.05114868, -0.06678921, ..., -0.01058056,\n",
              "            0.07535071, -0.07947271],\n",
              "          [ 0.05022407,  0.03525963,  0.07302787, ..., -0.03450738,\n",
              "           -0.00690043,  0.06779394],\n",
              "          [-0.04704374, -0.02374351, -0.01127217, ...,  0.02052484,\n",
              "           -0.02375951,  0.03830129],\n",
              "          ...,\n",
              "          [ 0.00437355, -0.05978765, -0.02615806, ..., -0.05995804,\n",
              "            0.052053  ,  0.06605782],\n",
              "          [ 0.01644959,  0.02776923, -0.03511002, ..., -0.04155731,\n",
              "           -0.01298434,  0.04090708],\n",
              "          [-0.05356924, -0.04314002,  0.07863272, ..., -0.04648133,\n",
              "           -0.02426581, -0.07980172]],\n",
              " \n",
              "         [[ 0.00883696, -0.07069749,  0.06893293, ...,  0.08173313,\n",
              "            0.06559706, -0.05572234],\n",
              "          [ 0.00240499,  0.03911553, -0.072124  , ...,  0.05729619,\n",
              "            0.00258058,  0.00573802],\n",
              "          [-0.03652589, -0.08113258, -0.05485819, ...,  0.0120379 ,\n",
              "           -0.05575502, -0.05796987],\n",
              "          ...,\n",
              "          [ 0.03993455,  0.08248777, -0.03964877, ..., -0.04397635,\n",
              "           -0.07350709, -0.04612035],\n",
              "          [-0.06892721, -0.0805616 , -0.00702361, ..., -0.07976955,\n",
              "           -0.01706914,  0.08011407],\n",
              "          [ 0.01813694,  0.01246542, -0.05323339, ..., -0.01705599,\n",
              "           -0.08058113, -0.00469866]]]], dtype=float32),\n",
              " array([0., 0., 0., 0., 0., 0., 0., 0., 0., 0., 0., 0., 0., 0., 0., 0., 0.,\n",
              "        0., 0., 0., 0., 0., 0., 0., 0., 0., 0., 0., 0., 0., 0., 0., 0., 0.,\n",
              "        0., 0., 0., 0., 0., 0., 0., 0., 0., 0., 0., 0., 0., 0., 0., 0., 0.,\n",
              "        0., 0., 0., 0., 0., 0., 0., 0., 0., 0., 0., 0., 0.], dtype=float32),\n",
              " array([[-0.03625283, -0.00855331, -0.02033995, ...,  0.03844446,\n",
              "         -0.02660098,  0.03966871],\n",
              "        [ 0.02703011, -0.00142664, -0.00111509, ...,  0.00913175,\n",
              "         -0.00981232,  0.0105338 ],\n",
              "        [ 0.02770203,  0.02456724, -0.01576079, ...,  0.03358601,\n",
              "          0.02064769, -0.00152037],\n",
              "        ...,\n",
              "        [-0.0106748 ,  0.00401824, -0.04141609, ..., -0.01329818,\n",
              "          0.02828401,  0.01418396],\n",
              "        [-0.0215112 ,  0.02918247, -0.02257063, ...,  0.01559085,\n",
              "          0.01837045, -0.01984759],\n",
              "        [ 0.00711005,  0.03042017, -0.03376093, ..., -0.01337538,\n",
              "         -0.03926814, -0.02058105]], dtype=float32),\n",
              " array([0., 0., 0., 0., 0., 0., 0., 0., 0., 0., 0., 0., 0., 0., 0., 0., 0.,\n",
              "        0., 0., 0., 0., 0., 0., 0., 0., 0., 0., 0., 0., 0., 0., 0., 0., 0.,\n",
              "        0., 0., 0., 0., 0., 0., 0., 0., 0., 0., 0., 0., 0., 0., 0., 0., 0.,\n",
              "        0., 0., 0., 0., 0., 0., 0., 0., 0., 0., 0., 0., 0., 0., 0., 0., 0.,\n",
              "        0., 0., 0., 0., 0., 0., 0., 0., 0., 0., 0., 0., 0., 0., 0., 0., 0.,\n",
              "        0., 0., 0., 0., 0., 0., 0., 0., 0., 0., 0., 0., 0., 0., 0., 0., 0.,\n",
              "        0., 0., 0., 0., 0., 0., 0., 0., 0., 0., 0., 0., 0., 0., 0., 0., 0.,\n",
              "        0., 0., 0., 0., 0., 0., 0., 0., 0., 0., 0., 0., 0., 0., 0., 0., 0.,\n",
              "        0., 0., 0., 0., 0., 0., 0., 0., 0., 0., 0., 0., 0., 0., 0., 0., 0.,\n",
              "        0., 0., 0., 0., 0., 0., 0., 0., 0., 0., 0., 0., 0., 0., 0., 0., 0.,\n",
              "        0., 0., 0., 0., 0., 0., 0., 0., 0., 0., 0., 0., 0., 0., 0., 0., 0.,\n",
              "        0., 0., 0., 0., 0., 0., 0., 0., 0., 0., 0., 0., 0., 0., 0., 0., 0.,\n",
              "        0., 0., 0., 0., 0., 0., 0., 0., 0., 0., 0., 0., 0., 0., 0., 0., 0.,\n",
              "        0., 0., 0., 0., 0., 0., 0., 0., 0., 0., 0., 0., 0., 0., 0., 0., 0.,\n",
              "        0., 0., 0., 0., 0., 0., 0., 0., 0., 0., 0., 0., 0., 0., 0., 0., 0.,\n",
              "        0.], dtype=float32),\n",
              " array([[ 0.14712387, -0.02107732,  0.09146763, -0.02992703],\n",
              "        [ 0.11364639, -0.01552719,  0.07909483,  0.06746565],\n",
              "        [ 0.1349312 ,  0.04368441,  0.07850415,  0.04734431],\n",
              "        ...,\n",
              "        [ 0.01800872,  0.14987779, -0.03774966, -0.14325659],\n",
              "        [ 0.13782313,  0.10258836,  0.01318301, -0.00023723],\n",
              "        [ 0.14659885, -0.02244514, -0.10955756, -0.04681059]],\n",
              "       dtype=float32),\n",
              " array([0., 0., 0., 0.], dtype=float32)]"
            ]
          },
          "metadata": {
            "tags": []
          },
          "execution_count": 15
        }
      ]
    },
    {
      "metadata": {
        "id": "1uq5MdJJW-AZ",
        "colab_type": "code",
        "colab": {}
      },
      "cell_type": "code",
      "source": [
        "obs_ph = tf.placeholder(tf.float32, shape=(None,) + state_dim)\n",
        "actions_ph = tf.placeholder(tf.int32, shape=[None])\n",
        "rewards_ph = tf.placeholder(tf.float32, shape=[None])\n",
        "next_obs_ph = tf.placeholder(tf.float32, shape=(None,) + state_dim)\n",
        "is_done_ph = tf.placeholder(tf.float32, shape=[None])\n",
        "is_not_done = 1 - is_done_ph\n",
        "gamma = 0.99"
      ],
      "execution_count": 0,
      "outputs": []
    },
    {
      "metadata": {
        "id": "PxcKr9gwW-Ak",
        "colab_type": "code",
        "colab": {}
      },
      "cell_type": "code",
      "source": [
        "current_qvalues = agent.get_symbolic_qvalues(obs_ph)\n",
        "current_action_qvalues = tf.reduce_sum(tf.one_hot(actions_ph, n_actions) * current_qvalues, axis=1)"
      ],
      "execution_count": 0,
      "outputs": []
    },
    {
      "metadata": {
        "id": "vufzaIE6W-At",
        "colab_type": "code",
        "colab": {}
      },
      "cell_type": "code",
      "source": [
        "next_qvalues_target = target_network.get_symbolic_qvalues(next_obs_ph)\n",
        "next_state_values_target = tf.reduce_max(next_qvalues_target, axis=-1)\n",
        "reference_qvalues = rewards_ph + gamma * next_state_values_target * is_not_done\n",
        "td_loss = (current_action_qvalues - reference_qvalues) ** 2\n",
        "td_loss = tf.reduce_mean(td_loss)\n",
        "train_step = tf.train.AdamOptimizer(1e-3).minimize(td_loss, var_list=agent.weights)"
      ],
      "execution_count": 0,
      "outputs": []
    },
    {
      "metadata": {
        "id": "FV-hYpkIW-A3",
        "colab_type": "code",
        "colab": {}
      },
      "cell_type": "code",
      "source": [
        "sess.run(tf.global_variables_initializer())"
      ],
      "execution_count": 0,
      "outputs": []
    },
    {
      "metadata": {
        "id": "y-rRPNZ7W-A-",
        "colab_type": "code",
        "colab": {}
      },
      "cell_type": "code",
      "source": [
        "moving_average = lambda x, span=100, **kw: DataFrame(\n",
        "    {'x': np.asarray(x)}).x.ewm(span=span, **kw).mean().values\n",
        "%matplotlib inline\n",
        "\n",
        "mean_rw_history = []\n",
        "td_loss_history = []"
      ],
      "execution_count": 0,
      "outputs": []
    },
    {
      "metadata": {
        "id": "wX8NsZKXW-BE",
        "colab_type": "code",
        "colab": {
          "base_uri": "https://localhost:8080/",
          "height": 51
        },
        "outputId": "78ec4267-eebf-4244-cefa-1e517e712e02"
      },
      "cell_type": "code",
      "source": [
        "exp_replay = ReplayBuffer(10**5)\n",
        "play_and_record(agent, env, exp_replay, n_steps=10000)\n",
        "\n",
        "def sample_batch(exp_replay, batch_size):\n",
        "    obs_batch, act_batch, reward_batch, next_obs_batch, is_done_batch = exp_replay.sample(batch_size)\n",
        "    return {\n",
        "        obs_ph: obs_batch, actions_ph: act_batch, rewards_ph: reward_batch,\n",
        "        next_obs_ph: next_obs_batch, is_done_ph: is_done_batch\n",
        "    }"
      ],
      "execution_count": 21,
      "outputs": [
        {
          "output_type": "stream",
          "text": [
            "/usr/local/lib/python3.6/dist-packages/skimage/transform/_warps.py:84: UserWarning: The default mode, 'constant', will be changed to 'reflect' in skimage 0.15.\n",
            "  warn(\"The default mode, 'constant', will be changed to 'reflect' in \"\n"
          ],
          "name": "stderr"
        }
      ]
    },
    {
      "metadata": {
        "id": "MpCe9gWrW-BL",
        "colab_type": "code",
        "colab": {
          "base_uri": "https://localhost:8080/",
          "height": 577
        },
        "outputId": "edcb15d4-6c93-4838-fcc7-81d76d740956"
      },
      "cell_type": "code",
      "source": [
        "for i in trange(10**5):\n",
        "    play_and_record(agent, env, exp_replay, 10)\n",
        "    _, loss_t = sess.run([train_step, td_loss], sample_batch(exp_replay, batch_size=64))\n",
        "    td_loss_history.append(loss_t)\n",
        "    if i % 500 == 0:\n",
        "        sess.run(copy_step)\n",
        "        agent.epsilon = max(agent.epsilon * 0.99, 0.01)\n",
        "        mean_rw_history.append(evaluate(make_env(), agent, n_games=3))\n",
        "\n",
        "    if i % 100 == 0:\n",
        "        clear_output(True)\n",
        "        print(\"buffer size = %i, epsilon = %.5f\" %\n",
        "              (len(exp_replay), agent.epsilon))\n",
        "        plt.subplot(1, 2, 1)\n",
        "        plt.title(\"mean reward per game\")\n",
        "        plt.plot(mean_rw_history)\n",
        "        plt.grid()\n",
        "        assert not np.isnan(loss_t)\n",
        "        plt.figure(figsize=[12, 4])\n",
        "        plt.subplot(1, 2, 2)\n",
        "        plt.title(\"TD loss history (moving average)\")\n",
        "        plt.plot(moving_average(np.array(td_loss_history), span=100, min_periods=100))\n",
        "        plt.grid()\n",
        "        plt.show()"
      ],
      "execution_count": 0,
      "outputs": [
        {
          "output_type": "stream",
          "text": [
            "buffer size = 24010, epsilon = 0.48515\n"
          ],
          "name": "stdout"
        },
        {
          "output_type": "display_data",
          "data": {
            "image/png": "[encoded data removed]",
            "text/plain": [
              "<Figure size 432x288 with 1 Axes>"
            ]
          },
          "metadata": {
            "tags": []
          }
        },
        {
          "output_type": "display_data",
          "data": {
            "image/png": "[encoded data removed]",
            "text/plain": [
              "<Figure size 864x288 with 1 Axes>"
            ]
          },
          "metadata": {
            "tags": []
          }
        },
        {
          "output_type": "stream",
          "text": [
            "  1%|▏         | 1443/100000 [01:47<1:40:54, 16.28it/s]"
          ],
          "name": "stderr"
        }
      ]
    },
    {
      "metadata": {
        "id": "lSz1pY6_W-BW",
        "colab_type": "code",
        "colab": {}
      },
      "cell_type": "code",
      "source": [
        "assert np.mean(mean_rw_history[-10:]) > 10.\n",
        "print(\"That's good enough for tutorial.\")"
      ],
      "execution_count": 0,
      "outputs": []
    }
  ]
}